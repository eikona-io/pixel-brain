{
 "cells": [
  {
   "cell_type": "code",
   "execution_count": 1,
   "metadata": {},
   "outputs": [
    {
     "name": "stderr",
     "output_type": "stream",
     "text": [
      "/Users/omerhacohen/ws/pixel-brain/venv/lib/python3.8/site-packages/pinecone/data/index.py:1: TqdmWarning: IProgress not found. Please update jupyter and ipywidgets. See https://ipywidgets.readthedocs.io/en/stable/user_install.html\n",
      "  from tqdm.autonotebook import tqdm\n"
     ]
    },
    {
     "name": "stdout",
     "output_type": "stream",
     "text": [
      "Fitting 5 folds for each of 648 candidates, totalling 3240 fits\n",
      "Testing RMSE: 0.7054217854172583\n"
     ]
    }
   ],
   "source": [
    "from pixelbrain.database_processors.xgboost_processor import XGBoostDatabaseTrainer, XGBoostDatabaseProcessor\n",
    "from pixelbrain.database import Database\n",
    "\n",
    "mongo_key=\"\"\n",
    "db = Database(database_id=\"Selfyx\", mongo_key=mongo_key)\n",
    "\n",
    "data_field_names = [\n",
    "    \"cfg_scale\",\n",
    "    \"pick_score\",\n",
    "    \"similarity_score_nearest\",\n",
    "    \"similarity_score_average_k_nearest\",\n",
    "    \"similarity_score_maximum_distance\",\n",
    "    \"generated_epoch\"\n",
    "]\n",
    "\n",
    "metric_field_name = \"human_rating\"\n",
    "trainer = XGBoostDatabaseTrainer(db, data_field_names, metric_field_name)\n",
    "trainer.fit()\n",
    "\n"
   ]
  }
 ],
 "metadata": {
  "kernelspec": {
   "display_name": "venv",
   "language": "python",
   "name": "python3"
  },
  "language_info": {
   "codemirror_mode": {
    "name": "ipython",
    "version": 3
   },
   "file_extension": ".py",
   "mimetype": "text/x-python",
   "name": "python",
   "nbconvert_exporter": "python",
   "pygments_lexer": "ipython3",
   "version": "3.8.19"
  }
 },
 "nbformat": 4,
 "nbformat_minor": 2
}
